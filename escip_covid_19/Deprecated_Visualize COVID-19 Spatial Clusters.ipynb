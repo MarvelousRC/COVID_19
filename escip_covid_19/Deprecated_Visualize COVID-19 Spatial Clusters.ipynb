{
 "cells": [
  {
   "cell_type": "code",
   "execution_count": null,
   "metadata": {},
   "outputs": [],
   "source": [
    "import pandas as pd\n",
    "import geopandas as gpd\n",
    "import json\n",
    "import matplotlib.pyplot as plt\n",
    "%matplotlib inline\n",
    "\n",
    "from bokeh.io import output_file, show, output_notebook, export_png\n",
    "from bokeh.models import ColumnDataSource, GeoJSONDataSource, LinearColorMapper, ColorBar\n",
    "from bokeh.plotting import figure\n",
    "from bokeh.palettes import brewer\n",
    "\n",
    "import panel as pn\n",
    "import panel.widgets as pnw\n",
    "from bokeh.models.widgets import DataTable\n",
    "import datetime as dt\n",
    "from bokeh.tile_providers import CARTODBPOSITRON, get_provider"
   ]
  },
  {
   "cell_type": "code",
   "execution_count": null,
   "metadata": {},
   "outputs": [],
   "source": [
    "output_notebook()"
   ]
  },
  {
   "cell_type": "code",
   "execution_count": null,
   "metadata": {},
   "outputs": [],
   "source": [
    "data = gpd.read_file('tmp_death/20-04-24_right.geojson')\n",
    "data.geometry = data.geometry.simplify(0.01)"
   ]
  },
  {
   "cell_type": "code",
   "execution_count": null,
   "metadata": {},
   "outputs": [],
   "source": [
    "data = data[data['likelihood_cluster'].notna()]"
   ]
  },
  {
   "cell_type": "code",
   "execution_count": null,
   "metadata": {},
   "outputs": [],
   "source": [
    "data"
   ]
  },
  {
   "cell_type": "code",
   "execution_count": null,
   "metadata": {},
   "outputs": [],
   "source": [
    "fig, ax = plt.subplots(1, figsize=(14, 8))\n",
    "data.plot(column='likelihood_cluster', cmap='OrRd', linewidth=0.2, ax=ax, edgecolor='black')\n",
    "ax.axis('off')\n",
    "ax.set_title('Hi - Clusters in 2020-05-19', fontsize=18)"
   ]
  },
  {
   "cell_type": "code",
   "execution_count": null,
   "metadata": {},
   "outputs": [],
   "source": [
    "def get_geodatasource(gdf):    \n",
    "    \"\"\"Get getjsondatasource from geopandas object\"\"\"\n",
    "    json_data = json.dumps(json.loads(gdf.to_json()))\n",
    "    return GeoJSONDataSource(geojson = json_data)\n",
    "\n",
    "geosource = get_geodatasource(data)"
   ]
  },
  {
   "cell_type": "code",
   "execution_count": null,
   "metadata": {},
   "outputs": [],
   "source": [
    "tile_provider = get_provider(CARTODBPOSITRON)"
   ]
  },
  {
   "cell_type": "code",
   "execution_count": null,
   "metadata": {},
   "outputs": [],
   "source": [
    "def bokeh_plot_map(column=None, title=''):\n",
    "    \"\"\"Plot bokeh map from GeoJSONDataSource \"\"\"\n",
    "    column = 'likelihood_cluster'\n",
    "    palette = brewer['OrRd'][9]\n",
    "    palette = palette[::-1]\n",
    "    vals = data[column]\n",
    "    #Instantiate LinearColorMapper that linearly maps numbers in a range, into a sequence of colors.\n",
    "    color_mapper = LinearColorMapper(palette = palette, low = vals.min(), high = vals.max())\n",
    "    color_bar = ColorBar(color_mapper=color_mapper, label_standoff=8, width=500, height=20,\n",
    "                         location=(0,0), orientation='horizontal')\n",
    "\n",
    "    tools = 'wheel_zoom,pan,reset'\n",
    "    p = figure(title = title, plot_height=400 , plot_width=850, toolbar_location='right', tools=tools)\n",
    "    p.add_tile(tile_provider)\n",
    "    p.xgrid.grid_line_color = None\n",
    "    p.ygrid.grid_line_color = None\n",
    "    #Add patch renderer to figure\n",
    "    p.patches('xs','ys', source=geosource, fill_alpha=0.8, line_width=0.5, line_color='black',  \n",
    "              fill_color={'field' :column , 'transform': color_mapper})\n",
    "    #Specify figure layout.\n",
    "    p.add_layout(color_bar, 'below')\n",
    "    \n",
    "    return p"
   ]
  },
  {
   "cell_type": "code",
   "execution_count": null,
   "metadata": {},
   "outputs": [],
   "source": [
    "def map_dash():\n",
    "    \"\"\"Map dashboard\"\"\"\n",
    "    map_pane = pn.pane.Bokeh(width=800)\n",
    "#     data_select = pnw.Select(name='dataset',options=list(owid.index))\n",
    "    date_slider = pnw.DateSlider(name='Date', \n",
    "                                 start=dt.datetime(2020, 5, 18), \n",
    "                                 end=dt.datetime(2020, 5, 19), \n",
    "                                 value=dt.datetime(2020, 5, 19))\n",
    "#     year_slider = pnw.IntSlider(start=1950,end=2018,value=2010)\n",
    "    def update_map(event):    \n",
    "        map_pane.object = bokeh_plot_map(date_slider.value)        \n",
    "        return\n",
    "    date_slider.param.watch(update_map,'value')\n",
    "    date_slider.param.trigger('value')\n",
    "#     data_select.param.watch(update_map,'value')\n",
    "    app = pn.Column(pn.Row(date_slider),map_pane)\n",
    "    return app\n",
    "\n",
    "app = map_dash()"
   ]
  },
  {
   "cell_type": "code",
   "execution_count": null,
   "metadata": {},
   "outputs": [],
   "source": [
    "a = bokeh_plot_map(dt.datetime(2020, 4, 24))"
   ]
  },
  {
   "cell_type": "code",
   "execution_count": null,
   "metadata": {},
   "outputs": [],
   "source": [
    "show(a)"
   ]
  },
  {
   "cell_type": "code",
   "execution_count": null,
   "metadata": {},
   "outputs": [],
   "source": [
    "show(a)"
   ]
  },
  {
   "cell_type": "code",
   "execution_count": null,
   "metadata": {},
   "outputs": [],
   "source": [
    "pn.extension()"
   ]
  },
  {
   "cell_type": "code",
   "execution_count": null,
   "metadata": {},
   "outputs": [],
   "source": [
    "app"
   ]
  },
  {
   "cell_type": "code",
   "execution_count": null,
   "metadata": {},
   "outputs": [],
   "source": []
  }
 ],
 "metadata": {
  "kernelspec": {
   "display_name": "Python 3",
   "language": "python",
   "name": "python3"
  },
  "language_info": {
   "codemirror_mode": {
    "name": "ipython",
    "version": 3
   },
   "file_extension": ".py",
   "mimetype": "text/x-python",
   "name": "python",
   "nbconvert_exporter": "python",
   "pygments_lexer": "ipython3",
   "version": "3.7.6"
  }
 },
 "nbformat": 4,
 "nbformat_minor": 4
}
