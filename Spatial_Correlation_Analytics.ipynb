{
 "cells": [
  {
   "cell_type": "markdown",
   "metadata": {},
   "source": [
    "# Spatial Correlation Analytics Between Population and COVID-19 Confirmed Cases in New York State"
   ]
  },
  {
   "cell_type": "markdown",
   "metadata": {},
   "source": [
    "This Jupyter notebook demostrates spatial correlation analytics bewtween population and CVOID-19 Confirmed cases in New York State.\n",
    "\n",
    "We are using New York, US as our study area. And this notebook uses geospatial libraries to show the spatial distribution of population, COVID confirmed cases in New York State, and show the results for the spatial correlation analytics between population and COVID-19 confirmed cases in New York State."
   ]
  },
  {
   "cell_type": "markdown",
   "metadata": {},
   "source": [
    "# Notebook Outline\n",
    "- [Data preparing](#Data)\n",
    "    - [Setup](#setup)\n",
    "    - [Population Data](#Pop)\n",
    "    - [COVID-19 Data](#CSV)\n",
    "- [Spatial Analysis](#explore)\n",
    "    - [Spatial distrinution](#spatial)\n",
    "    - [Spatial Correlation Analytics](#statistical)"
   ]
  },
  {
   "cell_type": "markdown",
   "metadata": {},
   "source": [
    "<a id='Data'></a>\n",
    "## Data Preparation\n",
    "\n",
    "The first part is a demostration that shows user how to prepare population data and COVID data in New York State."
   ]
  },
  {
   "cell_type": "markdown",
   "metadata": {},
   "source": [
    "<a id='setup'></a>\n",
    "### Set up the environment by importing libraries\n",
    "Import numpy, pandas, geopandas, shapely and other libraries available in CyberGIS-Jupyter to set up an environment to store and manipulate the Population data."
   ]
  },
  {
   "cell_type": "code",
   "execution_count": null,
   "metadata": {},
   "outputs": [],
   "source": [
    "import pathlib\n",
    "import os\n",
    "import tarfile\n",
    "\n",
    "import requests\n",
    "import shutil\n",
    "import zipfile\n",
    " \n",
    "import pandas as pd\n",
    "import pathlib\n",
    "import os\n",
    "import tarfile\n",
    "\n",
    "import requests\n",
    "import shutil\n",
    "import zipfile\n",
    "\n",
    "# Plotting the population data\n",
    "import matplotlib.pyplot as plt\n",
    "import datetime\n",
    "%matplotlib inline\n",
    "\n",
    "import numpy as np\n",
    "import geopandas as gpd\n",
    "from shapely.geometry import Point\n",
    "\n",
    "import plotly.figure_factory as ff\n",
    "import plotly.express as px\n",
    "import json\n",
    "import plotly.graph_objects as go\n",
    "\n",
    "import seaborn as sns\n"
   ]
  },
  {
   "cell_type": "markdown",
   "metadata": {},
   "source": [
    "<a id='Pop'></a>\n",
    "### Population data\n",
    "Population data for New York State"
   ]
  },
  {
   "cell_type": "markdown",
   "metadata": {},
   "source": [
    "The dataformat is shapefile.\n",
    "\n",
    "The original link is https://www.arcgis.com/home/item.html?id=3b69769aa9b646a483af81d05e7702d2.\n",
    "\n",
    "U.S. Counties represents the counties of the United States in the 50 states, the District of Columbia, and Puerto Rico.\n",
    "\n",
    "Originally extracted from this layer package: http://www.arcgis.com/home/item.html?id=a00d6b6149b34ed3b833e10fb72ef47b\n"
   ]
  },
  {
   "cell_type": "code",
   "execution_count": null,
   "metadata": {},
   "outputs": [],
   "source": [
    "%%time\n",
    "file = pathlib.Path(\"USA_Counties_as_Shape.zip\")\n",
    "if file.exists ():\n",
    "    print (\"Population data exist\")\n",
    "else:\n",
    "    print (\"Population data not exist, Downloading the Population data...\")\n",
    "    !wget https://s3-eu-west-1.amazonaws.com/pfigshare-u-files/22153815/USA_Counties_as_Shape.zip\n"
   ]
  },
  {
   "cell_type": "markdown",
   "metadata": {},
   "source": [
    "Show the first five records of the new york state "
   ]
  },
  {
   "cell_type": "code",
   "execution_count": null,
   "metadata": {},
   "outputs": [],
   "source": [
    "%%time\n",
    "pop = gpd.read_file(\"zip://USA_Counties_as_Shape.zip\")\n",
    "pop = pop[pop.STATE_NAME=='New York']\n",
    "pop"
   ]
  },
  {
   "cell_type": "markdown",
   "metadata": {},
   "source": [
    "<a id='CSV'></a>\n",
    "### COVID-19 Data\n",
    "\n",
    "The data is retrieved from [Johns Hopkins CSSE COVID-19 cases dataset repository](https://github.com/CSSEGISandData/COVID-19/)"
   ]
  },
  {
   "cell_type": "markdown",
   "metadata": {},
   "source": [
    "The data format is CSV file."
   ]
  },
  {
   "cell_type": "code",
   "execution_count": null,
   "metadata": {},
   "outputs": [],
   "source": [
    "%%time\n",
    "confirmed_cases = pd.read_csv(\n",
    "    \"https://github.com/CSSEGISandData/COVID-19/raw/master/csse_covid_19_data/csse_covid_19_time_series/time_series_covid19_confirmed_US.csv\"\n",
    ")\n",
    "confirmed_cases = confirmed_cases[confirmed_cases['Province_State'] == 'New York']\n",
    "confirmed_cases.head(5)"
   ]
  },
  {
   "cell_type": "markdown",
   "metadata": {},
   "source": [
    "Show the time series data"
   ]
  },
  {
   "cell_type": "code",
   "execution_count": null,
   "metadata": {},
   "outputs": [],
   "source": [
    "columns = confirmed_cases.columns\n",
    "dates = columns[11:-1]\n",
    "dates"
   ]
  },
  {
   "cell_type": "code",
   "execution_count": null,
   "metadata": {},
   "outputs": [],
   "source": [
    "pop[\"Admin2\"]=pop[\"NAME\"]\n",
    "pop.shape"
   ]
  },
  {
   "cell_type": "code",
   "execution_count": null,
   "metadata": {},
   "outputs": [],
   "source": [
    "pop.describe()"
   ]
  },
  {
   "cell_type": "code",
   "execution_count": null,
   "metadata": {},
   "outputs": [],
   "source": [
    "confirmed_cases = confirmed_cases[confirmed_cases['Admin2'] != 'Unassigned']"
   ]
  },
  {
   "cell_type": "code",
   "execution_count": null,
   "metadata": {},
   "outputs": [],
   "source": [
    "confirmed_cases"
   ]
  },
  {
   "cell_type": "code",
   "execution_count": null,
   "metadata": {},
   "outputs": [],
   "source": [
    "confirmed_cases['3/29/2020'].hist(bins=100)"
   ]
  },
  {
   "cell_type": "markdown",
   "metadata": {},
   "source": [
    "<a id='explore'></a>\n",
    "\n",
    "## Spatial Analysis\n",
    "\n",
    "The part is a demostration that shows spatial correlation analytics bwtween population and CVOID-19 Confirmed cases in New York State."
   ]
  },
  {
   "cell_type": "markdown",
   "metadata": {},
   "source": [
    "<a id='spatial'></a>\n",
    "### Spatial distribution"
   ]
  },
  {
   "cell_type": "code",
   "execution_count": null,
   "metadata": {},
   "outputs": [],
   "source": [
    "from urllib.request import urlopen\n",
    "import json\n",
    "with urlopen('https://raw.githubusercontent.com/plotly/datasets/master/geojson-counties-fips.json') as response:\n",
    "    counties = json.load(response)"
   ]
  },
  {
   "cell_type": "markdown",
   "metadata": {},
   "source": [
    "Show the spatial distribution of the COVID-19 Confirmed Cases in New York State"
   ]
  },
  {
   "cell_type": "code",
   "execution_count": null,
   "metadata": {},
   "outputs": [],
   "source": [
    "fig = go.Figure(\n",
    "    go.Choroplethmapbox(\n",
    "        geojson=counties, locations=confirmed_cases.FIPS, \n",
    "        z=np.log1p(confirmed_cases['3/29/2020']),\n",
    "#         z=confirmed_cases['3/29/20'],\n",
    "        colorscale=\"reds\", marker_opacity=0.5, marker_line_width=0,\n",
    "        ids = confirmed_cases['Admin2'],  \n",
    "        name = 'Confirmed Cases',\n",
    "        colorbar_thickness = 10,\n",
    "        hoverinfo = 'text',\n",
    "        text = confirmed_cases['Admin2'] + ', ' + confirmed_cases['Province_State'] + '\\n' + confirmed_cases['3/29/2020'].astype('str'),\n",
    "#         showlegend = True,\n",
    "        showscale = True,\n",
    "        colorbar = dict(\n",
    "            title = \"# confirmed cases\",\n",
    "            titleside = 'top',\n",
    "            tickmode = 'array',\n",
    "            tickvals = np.arange(11),\n",
    "            ticktext = np.round(np.exp(np.arange(0,11)) - 1),\n",
    "            ticks = 'inside',\n",
    "            outlinewidth = 0\n",
    "        )\n",
    "    ))\n",
    "fig.update_layout(mapbox_style=\"carto-positron\",\n",
    "                  mapbox_zoom=5, #mapbox_center = {\"lat\": 37.0902, \"lon\": -95.7129},)\n",
    "                  mapbox_center={\"lat\": 42.7, \"lon\": -76},\n",
    "                 )\n",
    "fig.update_layout(margin={\"r\":10,\"t\":10,\"l\":10,\"b\":10})\n",
    "\n",
    "fig.show()"
   ]
  },
  {
   "cell_type": "markdown",
   "metadata": {},
   "source": [
    "The density map for the COVID-19 Confirmed Cases in New York State"
   ]
  },
  {
   "cell_type": "code",
   "execution_count": null,
   "metadata": {},
   "outputs": [],
   "source": []
  },
  {
   "cell_type": "code",
   "execution_count": null,
   "metadata": {},
   "outputs": [],
   "source": [
    "%%time \n",
    "fig = go.Figure(\n",
    "    go.Densitymapbox(\n",
    "        name = 'Density of Confirmed Cases',\n",
    "        opacity = 0.7,\n",
    "        z = np.log1p(confirmed_cases['3/29/2020']),\n",
    "        lat = confirmed_cases['Lat'],\n",
    "        lon = confirmed_cases['Long_'],\n",
    "        colorscale = 'reds',\n",
    "        radius = 30,\n",
    "        \n",
    "        text = confirmed_cases['Admin2'] + ', ' + confirmed_cases['Province_State'] + '\\n' + confirmed_cases['3/29/2020'].astype('str'),\n",
    "        hoverinfo = 'text',\n",
    "        colorbar = dict(\n",
    "            title = \"# confirmed cases\",\n",
    "            titleside = 'top',\n",
    "            tickmode = 'array',\n",
    "            tickvals = np.arange(11),\n",
    "            ticktext = np.round(np.exp(np.arange(0,11)) - 1),\n",
    "            ticks = 'inside',\n",
    "            outlinewidth = 0\n",
    "        )\n",
    "    )\n",
    ")\n",
    "fig.update_layout(mapbox_style=\"carto-positron\",\n",
    "                  mapbox_zoom=5, #mapbox_center = {\"lat\": 37.0902, \"lon\": -95.7129},)\n",
    "                  mapbox_center={\"lat\": 42.7, \"lon\": -76})\n",
    "fig.update_layout(margin={\"r\":0.1,\"t\":0.1,\"l\":0.1,\"b\":0.1})\n",
    "\n",
    "fig.show()"
   ]
  },
  {
   "cell_type": "markdown",
   "metadata": {},
   "source": [
    "The trend for New York City"
   ]
  },
  {
   "cell_type": "code",
   "execution_count": null,
   "metadata": {},
   "outputs": [],
   "source": [
    "nyc_count = confirmed_cases[confirmed_cases['Admin2'] == \"New York\"]\n",
    "nyc_count = nyc_count.T.iloc[11:]"
   ]
  },
  {
   "cell_type": "code",
   "execution_count": null,
   "metadata": {},
   "outputs": [],
   "source": [
    "nyc_count.columns = ['count']"
   ]
  },
  {
   "cell_type": "code",
   "execution_count": null,
   "metadata": {},
   "outputs": [],
   "source": [
    "px.line(nyc_count, x = nyc_count.index, y=nyc_count['count'])"
   ]
  },
  {
   "cell_type": "markdown",
   "metadata": {},
   "source": [
    "<a id='statistical'></a>\n",
    "### Spatial Correlation Analytics "
   ]
  },
  {
   "cell_type": "code",
   "execution_count": null,
   "metadata": {},
   "outputs": [],
   "source": [
    "sns.set(style='darkgrid', palette=\"deep\", font_scale=1.1, rc={\"figure.figsize\": [10, 8]})\n",
    "sns.distplot(pop['POP2012'], norm_hist=False, kde=False).set(xlabel='POP2012', ylabel='Count');\n",
    "plt.savefig('POP2012_distplot.png')"
   ]
  },
  {
   "cell_type": "code",
   "execution_count": null,
   "metadata": {},
   "outputs": [],
   "source": [
    "sns.jointplot(x=pop['POP2012'], y=pop['POP2010']);"
   ]
  },
  {
   "cell_type": "code",
   "execution_count": null,
   "metadata": {},
   "outputs": [],
   "source": [
    "sns.jointplot(x=pop['POP2012'], y=pop['POP12_SQMI']);"
   ]
  },
  {
   "cell_type": "code",
   "execution_count": null,
   "metadata": {},
   "outputs": [],
   "source": [
    "%%time\n",
    "merged_population = pop.merge(confirmed_cases, on=[\"Admin2\"], how='outer')\n",
    "merged_population.head()"
   ]
  },
  {
   "cell_type": "markdown",
   "metadata": {},
   "source": [
    "Exploratory data analysis for population data and COVID-19 Confirmed Cases"
   ]
  },
  {
   "cell_type": "code",
   "execution_count": null,
   "metadata": {},
   "outputs": [],
   "source": [
    "%%time\n",
    "fig, ax = plt.subplots(1,2, figsize=(18,18))\n",
    "merged_population.plot(column='POP2012', scheme='Quantiles', k=5, cmap='YlGnBu', legend=True, ax=ax[0]);\n",
    "merged_population.plot(column='3/29/2020', scheme='Quantiles', k=5, cmap='YlGnBu', legend=True, ax=ax[1]);\n",
    "plt.tight_layout()\n",
    "ax[0].set_title(\"Population Count\")\n",
    "ax[1].set_title(\"COVID-19 Confirmed Cases on 3/29/2020\")\n",
    "plt.savefig('comparison.png', bbox_inches=\"tight\")\n",
    "plt.show()"
   ]
  },
  {
   "cell_type": "markdown",
   "metadata": {},
   "source": [
    "calculate correlation matrix and plot the heatmap"
   ]
  },
  {
   "cell_type": "code",
   "execution_count": null,
   "metadata": {},
   "outputs": [],
   "source": [
    "%%time\n",
    "columns = ['POP2012','POP12_SQMI','MALES','FEMALES','WHITE','BLACK','AMERI_ES','ASIAN','HAWN_PI','HISPANIC','OTHER','3/25/2020', '3/26/2020', \n",
    "           '3/27/2020', '3/28/2020','3/29/2020','3/30/2020']\n",
    "\n",
    "# \n",
    "correlation = merged_population[columns].corr()\n",
    "\n",
    "fig, ax = plt.subplots(figsize=(12,10))\n",
    "\n",
    "\n",
    "sns.heatmap(correlation, xticklabels=columns,yticklabels=columns, ax=ax)\n",
    "plt.show()"
   ]
  },
  {
   "cell_type": "code",
   "execution_count": null,
   "metadata": {},
   "outputs": [],
   "source": []
  }
 ],
 "metadata": {
  "kernelspec": {
   "display_name": "Python 3",
   "language": "python",
   "name": "python3"
  },
  "language_info": {
   "codemirror_mode": {
    "name": "ipython",
    "version": 3
   },
   "file_extension": ".py",
   "mimetype": "text/x-python",
   "name": "python",
   "nbconvert_exporter": "python",
   "pygments_lexer": "ipython3",
   "version": "3.7.6"
  }
 },
 "nbformat": 4,
 "nbformat_minor": 4
}
