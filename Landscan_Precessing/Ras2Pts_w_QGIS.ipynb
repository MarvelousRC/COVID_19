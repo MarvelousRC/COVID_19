{
 "cells": [
  {
   "cell_type": "code",
   "execution_count": 1,
   "metadata": {},
   "outputs": [],
   "source": [
    "import sys\n",
    "\n",
    "sys.path.append('/opt/conda/share/qgis/python/plugins')\n",
    "sys.path.append('/opt/conda/share/qgis/python')\n",
    "sys.path.append('/opt/conda/bin')"
   ]
  },
  {
   "cell_type": "code",
   "execution_count": 2,
   "metadata": {},
   "outputs": [],
   "source": [
    "import qgis"
   ]
  },
  {
   "cell_type": "code",
   "execution_count": 3,
   "metadata": {},
   "outputs": [],
   "source": [
    "from qgis.core import *\n",
    "from qgis.analysis import *"
   ]
  },
  {
   "cell_type": "code",
   "execution_count": 4,
   "metadata": {},
   "outputs": [],
   "source": [
    "from qgis.core import QgsApplication\n",
    "# QgsApplication.setPrefixPath('/opt/conda/share/qgis/', True)"
   ]
  },
  {
   "cell_type": "code",
   "execution_count": 5,
   "metadata": {},
   "outputs": [
    {
     "data": {
      "text/plain": [
       "'3.12.1-București'"
      ]
     },
     "execution_count": 5,
     "metadata": {},
     "output_type": "execute_result"
    }
   ],
   "source": [
    "import qgis.utils\n",
    "qgis.utils.Qgis.QGIS_VERSION"
   ]
  },
  {
   "cell_type": "code",
   "execution_count": 6,
   "metadata": {},
   "outputs": [],
   "source": [
    "# dir(qgis.analysis)"
   ]
  },
  {
   "cell_type": "code",
   "execution_count": 7,
   "metadata": {},
   "outputs": [],
   "source": [
    "# QgsApplication([], False).initQgis()\n",
    "# from processing.core.Processing import Processing\n",
    "# Processing.initialize()"
   ]
  },
  {
   "cell_type": "code",
   "execution_count": 8,
   "metadata": {},
   "outputs": [
    {
     "name": "stdout",
     "output_type": "stream",
     "text": [
      "Help on class QgsRasterCalculator in module qgis._analysis:\n",
      "\n",
      "class QgsRasterCalculator(sip.wrapper)\n",
      " |  QgsRasterCalculator(formulaString: str, outputFile: str, outputFormat: str, outputExtent: QgsRectangle, nOutputColumns: int, nOutputRows: int, rasterEntries: Iterable[QgsRasterCalculatorEntry], transformContext: QgsCoordinateTransformContext)\n",
      " |  QgsRasterCalculator constructor.\n",
      " |  \n",
      " |  :param formulaString: formula for raster calculation\n",
      " |  :param outputFile: output file path\n",
      " |  :param outputFormat: output file format\n",
      " |  :param outputExtent: output extent. CRS for output is taken from first entry in rasterEntries.\n",
      " |  :param nOutputColumns: number of columns in output raster\n",
      " |  :param nOutputRows: number of rows in output raster\n",
      " |  :param rasterEntries: list of referenced raster layers\n",
      " |  :param transformContext: coordinate transformation context\n",
      " |  \n",
      " |  .. versionadded:: 3.8\n",
      " |  \n",
      " |  QgsRasterCalculator(formulaString: str, outputFile: str, outputFormat: str, outputExtent: QgsRectangle, outputCrs: QgsCoordinateReferenceSystem, nOutputColumns: int, nOutputRows: int, rasterEntries: Iterable[QgsRasterCalculatorEntry], transformContext: QgsCoordinateTransformContext)\n",
      " |  QgsRasterCalculator constructor.\n",
      " |  \n",
      " |  :param formulaString: formula for raster calculation\n",
      " |  :param outputFile: output file path\n",
      " |  :param outputFormat: output file format\n",
      " |  :param outputExtent: output extent, CRS is specified by outputCrs parameter\n",
      " |  :param outputCrs: destination CRS for output raster\n",
      " |  :param nOutputColumns: number of columns in output raster\n",
      " |  :param nOutputRows: number of rows in output raster\n",
      " |  :param rasterEntries: list of referenced raster layers\n",
      " |  :param transformContext: coordinate transformation context\n",
      " |  \n",
      " |  .. versionadded:: 3.8\n",
      " |  \n",
      " |  QgsRasterCalculator(formulaString: str, outputFile: str, outputFormat: str, outputExtent: QgsRectangle, nOutputColumns: int, nOutputRows: int, rasterEntries: Iterable[QgsRasterCalculatorEntry])\n",
      " |  QgsRasterCalculator constructor.\n",
      " |  \n",
      " |  :param formulaString: formula for raster calculation\n",
      " |  :param outputFile: output file path\n",
      " |  :param outputFormat: output file format\n",
      " |  :param outputExtent: output extent. CRS for output is taken from first entry in rasterEntries.\n",
      " |  :param nOutputColumns: number of columns in output raster\n",
      " |  :param nOutputRows: number of rows in output raster\n",
      " |  :param rasterEntries: list of referenced raster layers\n",
      " |  \n",
      " |  .. deprecated:: QGIS 3.8\n",
      " |    use the version with transformContext instead\n",
      " |  \n",
      " |  QgsRasterCalculator(formulaString: str, outputFile: str, outputFormat: str, outputExtent: QgsRectangle, outputCrs: QgsCoordinateReferenceSystem, nOutputColumns: int, nOutputRows: int, rasterEntries: Iterable[QgsRasterCalculatorEntry])\n",
      " |  QgsRasterCalculator constructor.\n",
      " |  \n",
      " |  :param formulaString: formula for raster calculation\n",
      " |  :param outputFile: output file path\n",
      " |  :param outputFormat: output file format\n",
      " |  :param outputExtent: output extent, CRS is specified by outputCrs parameter\n",
      " |  :param outputCrs: destination CRS for output raster\n",
      " |  :param nOutputColumns: number of columns in output raster\n",
      " |  :param nOutputRows: number of rows in output raster\n",
      " |  :param rasterEntries: list of referenced raster layers\n",
      " |  \n",
      " |  .. deprecated:: QGIS 3.8\n",
      " |    use the version with transformContext instead\n",
      " |  \n",
      " |  .. versionadded:: 2.10\n",
      " |  \n",
      " |  QgsRasterCalculator(QgsRasterCalculator)\n",
      " |  \n",
      " |  Performs raster layer calculations.\n",
      " |  \n",
      " |  Method resolution order:\n",
      " |      QgsRasterCalculator\n",
      " |      sip.wrapper\n",
      " |      sip.simplewrapper\n",
      " |      builtins.object\n",
      " |  \n",
      " |  Methods defined here:\n",
      " |  \n",
      " |  lastError(...)\n",
      " |      lastError(self) -> str\n",
      " |      Returns a description of the last error encountered.\n",
      " |      \n",
      " |      .. versionadded:: 3.4\n",
      " |  \n",
      " |  processCalculation(...)\n",
      " |      processCalculation(self, feedback: QgsFeedback = None) -> QgsRasterCalculator.Result\n",
      " |      Starts the calculation and writes a new raster.\n",
      " |      \n",
      " |      The optional ``feedback`` argument can be used for progress reporting and cancellation support.\n",
      " |      \n",
      " |      :return: QgsRasterCalculator.Success in case of success. If an error is encountered then\n",
      " |               a description of the error can be obtained by calling lastError().\n",
      " |  \n",
      " |  ----------------------------------------------------------------------\n",
      " |  Data descriptors defined here:\n",
      " |  \n",
      " |  __weakref__\n",
      " |      list of weak references to the object (if defined)\n",
      " |  \n",
      " |  ----------------------------------------------------------------------\n",
      " |  Data and other attributes defined here:\n",
      " |  \n",
      " |  BandError = 6\n",
      " |  \n",
      " |  CalculationError = 7\n",
      " |  \n",
      " |  Canceled = 3\n",
      " |  \n",
      " |  CreateOutputError = 1\n",
      " |  \n",
      " |  InputLayerError = 2\n",
      " |  \n",
      " |  MemoryError = 5\n",
      " |  \n",
      " |  ParserError = 4\n",
      " |  \n",
      " |  Result = <class 'qgis._analysis.QgsRasterCalculator.Result'>\n",
      " |      int([x]) -> integer\n",
      " |      int(x, base=10) -> integer\n",
      " |      \n",
      " |      Convert a number or string to an integer, or return 0 if no arguments\n",
      " |      are given.  If x is a number, return x.__int__().  For floating point\n",
      " |      numbers, this truncates towards zero.\n",
      " |      \n",
      " |      If x is not a number or if base is given, then x must be a string,\n",
      " |      bytes, or bytearray instance representing an integer literal in the\n",
      " |      given base.  The literal can be preceded by '+' or '-' and be surrounded\n",
      " |      by whitespace.  The base defaults to 10.  Valid bases are 0 and 2-36.\n",
      " |      Base 0 means to interpret the base from the string as an integer literal.\n",
      " |      >>> int('0b100', base=0)\n",
      " |      4\n",
      " |  \n",
      " |  Success = 0\n",
      " |  \n",
      " |  ----------------------------------------------------------------------\n",
      " |  Methods inherited from sip.simplewrapper:\n",
      " |  \n",
      " |  __init__(self, /, *args, **kwargs)\n",
      " |      Initialize self.  See help(type(self)) for accurate signature.\n",
      " |  \n",
      " |  ----------------------------------------------------------------------\n",
      " |  Static methods inherited from sip.simplewrapper:\n",
      " |  \n",
      " |  __new__(*args, **kwargs) from sip.wrappertype\n",
      " |      Create and return a new object.  See help(type) for accurate signature.\n",
      " |  \n",
      " |  ----------------------------------------------------------------------\n",
      " |  Data descriptors inherited from sip.simplewrapper:\n",
      " |  \n",
      " |  __dict__\n",
      "\n"
     ]
    }
   ],
   "source": [
    "help(QgsRasterCalculator)"
   ]
  },
  {
   "cell_type": "code",
   "execution_count": 9,
   "metadata": {},
   "outputs": [
    {
     "data": {
      "text/plain": [
       "True"
      ]
     },
     "execution_count": 9,
     "metadata": {},
     "output_type": "execute_result"
    }
   ],
   "source": [
    "a = QgsApplication.processingRegistry()\n",
    "a.addProvider(QgsNativeAlgorithms())"
   ]
  },
  {
   "cell_type": "code",
   "execution_count": 10,
   "metadata": {},
   "outputs": [
    {
     "name": "stdout",
     "output_type": "stream",
     "text": [
      "QGIS (native c++):addautoincrementalfield --> Add autoincremental field\n",
      "QGIS (native c++):addfieldtoattributestable --> Add field to attributes table\n",
      "QGIS (native c++):adduniquevalueindexfield --> Add unique value index field\n",
      "QGIS (native c++):addxyfields --> Add X/Y fields to layer\n",
      "QGIS (native c++):affinetransform --> Affine transform\n",
      "QGIS (native c++):antimeridiansplit --> Geodesic line split at antimeridian\n",
      "QGIS (native c++):arrayoffsetlines --> Array of offset (parallel) lines\n",
      "QGIS (native c++):arraytranslatedfeatures --> Array of translated features\n",
      "QGIS (native c++):aspect --> Aspect\n",
      "QGIS (native c++):assignprojection --> Assign projection\n",
      "QGIS (native c++):bookmarkstolayer --> Convert spatial bookmarks to layer\n",
      "QGIS (native c++):boundary --> Boundary\n",
      "QGIS (native c++):boundingboxes --> Bounding boxes\n",
      "QGIS (native c++):buffer --> Buffer\n",
      "QGIS (native c++):bufferbym --> Variable width buffer (by M value)\n",
      "QGIS (native c++):calculatevectoroverlaps --> Overlap analysis\n",
      "QGIS (native c++):categorizeusingstyle --> Create categorized renderer from styles\n",
      "QGIS (native c++):centroids --> Centroids\n",
      "QGIS (native c++):clip --> Clip\n",
      "QGIS (native c++):collect --> Collect geometries\n",
      "QGIS (native c++):combinestyles --> Combine style databases\n",
      "QGIS (native c++):convexhull --> Convex hull\n",
      "QGIS (native c++):countpointsinpolygon --> Count points in polygon\n",
      "QGIS (native c++):createattributeindex --> Create attribute index\n",
      "QGIS (native c++):createconstantrasterlayer --> Create constant raster layer\n",
      "QGIS (native c++):creategrid --> Create grid\n",
      "QGIS (native c++):createpointslayerfromtable --> Create points layer from table\n",
      "QGIS (native c++):createspatialindex --> Create spatial index\n",
      "QGIS (native c++):dbscanclustering --> DBSCAN clustering\n",
      "QGIS (native c++):deleteduplicategeometries --> Delete duplicate geometries\n",
      "QGIS (native c++):deleteholes --> Delete holes\n",
      "QGIS (native c++):densifygeometries --> Densify by count\n",
      "QGIS (native c++):densifygeometriesgivenaninterval --> Densify by interval\n",
      "QGIS (native c++):detectvectorchanges --> Detect dataset changes\n",
      "QGIS (native c++):difference --> Difference\n",
      "QGIS (native c++):dissolve --> Dissolve\n",
      "QGIS (native c++):dropgeometries --> Drop geometries\n",
      "QGIS (native c++):dropmzvalues --> Drop M/Z values\n",
      "QGIS (native c++):explodehstorefield --> Explode HStore Field\n",
      "QGIS (native c++):explodelines --> Explode lines\n",
      "QGIS (native c++):extendlines --> Extend lines\n",
      "QGIS (native c++):extenttolayer --> Create layer from extent\n",
      "QGIS (native c++):extractbinary --> Extract binary field\n",
      "QGIS (native c++):extractbyattribute --> Extract by attribute\n",
      "QGIS (native c++):extractbyexpression --> Extract by expression\n",
      "QGIS (native c++):extractbyextent --> Extract/clip by extent\n",
      "QGIS (native c++):extractbylocation --> Extract by location\n",
      "QGIS (native c++):extractmvalues --> Extract M values\n",
      "QGIS (native c++):extractspecificvertices --> Extract specific vertices\n",
      "QGIS (native c++):extractvertices --> Extract vertices\n",
      "QGIS (native c++):extractzvalues --> Extract Z values\n",
      "QGIS (native c++):filedownloader --> Download file\n",
      "QGIS (native c++):filter --> Feature filter\n",
      "QGIS (native c++):filterverticesbym --> Filter vertices by M value\n",
      "QGIS (native c++):filterverticesbyz --> Filter vertices by Z value\n",
      "QGIS (native c++):fixgeometries --> Fix geometries\n",
      "QGIS (native c++):forcerhr --> Force right-hand-rule\n",
      "QGIS (native c++):fuzzifyrastergaussianmembership --> Fuzzify raster (gaussian membership)\n",
      "QGIS (native c++):fuzzifyrasterlargemembership --> Fuzzify raster (large membership)\n",
      "QGIS (native c++):fuzzifyrasterlinearmembership --> Fuzzify raster (linear membership)\n",
      "QGIS (native c++):fuzzifyrasternearmembership --> Fuzzify raster (near membership)\n",
      "QGIS (native c++):fuzzifyrasterpowermembership --> Fuzzify raster (power membership)\n",
      "QGIS (native c++):fuzzifyrastersmallmembership --> Fuzzify raster (small membership)\n",
      "QGIS (native c++):generatepointspixelcentroidsinsidepolygons --> Generate points (pixel centroids) inside polygons\n",
      "QGIS (native c++):geometrybyexpression --> Geometry by expression\n",
      "QGIS (native c++):hillshade --> Hillshade\n",
      "QGIS (native c++):hublines --> Join by lines (hub lines)\n",
      "QGIS (native c++):importphotos --> Import geotagged photos\n",
      "QGIS (native c++):interpolatepoint --> Interpolate point on line\n",
      "QGIS (native c++):intersection --> Intersection\n",
      "QGIS (native c++):joinattributesbylocation --> Join attributes by location\n",
      "QGIS (native c++):joinattributestable --> Join attributes by field value\n",
      "QGIS (native c++):joinbynearest --> Join attributes by nearest\n",
      "QGIS (native c++):kmeansclustering --> K-means clustering\n",
      "QGIS (native c++):layertobookmarks --> Convert layer to spatial bookmarks\n",
      "QGIS (native c++):linedensity --> Line density\n",
      "QGIS (native c++):lineintersections --> Line intersections\n",
      "QGIS (native c++):linesubstring --> Line substring\n",
      "QGIS (native c++):loadlayer --> Load layer into project\n",
      "QGIS (native c++):meancoordinates --> Mean coordinate(s)\n",
      "QGIS (native c++):mergelines --> Merge lines\n",
      "QGIS (native c++):mergevectorlayers --> Merge vector layers\n",
      "QGIS (native c++):minimumenclosingcircle --> Minimum enclosing circles\n",
      "QGIS (native c++):multiparttosingleparts --> Multipart to singleparts\n",
      "QGIS (native c++):multiringconstantbuffer --> Multi-ring buffer (constant distance)\n",
      "QGIS (native c++):nearestneighbouranalysis --> Nearest neighbour analysis\n",
      "QGIS (native c++):offsetline --> Offset lines\n",
      "QGIS (native c++):orderbyexpression --> Order by expression\n",
      "QGIS (native c++):orientedminimumboundingbox --> Oriented minimum bounding box\n",
      "QGIS (native c++):orthogonalize --> Orthogonalize\n",
      "QGIS (native c++):package --> Package layers\n",
      "QGIS (native c++):pixelstopoints --> Raster pixels to points\n",
      "QGIS (native c++):pixelstopolygons --> Raster pixels to polygons\n",
      "QGIS (native c++):pointonsurface --> Point on surface\n",
      "QGIS (native c++):pointsalonglines --> Points along geometry\n",
      "QGIS (native c++):pointtolayer --> Create layer from point\n",
      "QGIS (native c++):poleofinaccessibility --> Pole of inaccessibility\n",
      "QGIS (native c++):polygonfromlayerextent --> Extract layer extent\n",
      "QGIS (native c++):polygonstolines --> Polygons to lines\n",
      "QGIS (native c++):printlayoutmapextenttolayer --> Print layout map extent to layer\n",
      "QGIS (native c++):projectpointcartesian --> Project points (Cartesian)\n",
      "QGIS (native c++):promotetomulti --> Promote to multipart\n",
      "QGIS (native c++):randomextract --> Random extract\n",
      "QGIS (native c++):randompointsinextent --> Random points in extent\n",
      "QGIS (native c++):rasterbooleanand --> Raster boolean AND\n",
      "QGIS (native c++):rasterize --> Convert map to raster\n",
      "QGIS (native c++):rasterlayerstatistics --> Raster layer statistics\n",
      "QGIS (native c++):rasterlayeruniquevaluesreport --> Raster layer unique values report\n",
      "QGIS (native c++):rasterlayerzonalstats --> Raster layer zonal statistics\n",
      "QGIS (native c++):rasterlogicalor --> Raster boolean OR\n",
      "QGIS (native c++):rastersurfacevolume --> Raster surface volume\n",
      "QGIS (native c++):reclassifybylayer --> Reclassify by layer\n",
      "QGIS (native c++):reclassifybytable --> Reclassify by table\n",
      "QGIS (native c++):rectanglesovalsdiamonds --> Rectangles, ovals, diamonds\n",
      "QGIS (native c++):removeduplicatesbyattribute --> Delete duplicates by attribute\n",
      "QGIS (native c++):removeduplicatevertices --> Remove duplicate vertices\n",
      "QGIS (native c++):removenullgeometries --> Remove null geometries\n",
      "QGIS (native c++):renamelayer --> Rename layer\n",
      "QGIS (native c++):renametablefield --> Rename field\n",
      "QGIS (native c++):repairshapefile --> Repair Shapefile\n",
      "QGIS (native c++):reprojectlayer --> Reproject layer\n",
      "QGIS (native c++):reverselinedirection --> Reverse line direction\n",
      "QGIS (native c++):rotatefeatures --> Rotate\n",
      "QGIS (native c++):ruggednessindex --> Ruggedness index\n",
      "QGIS (native c++):saveselectedfeatures --> Extract selected features\n",
      "QGIS (native c++):segmentizebymaxangle --> Segmentize by maximum angle\n",
      "QGIS (native c++):segmentizebymaxdistance --> Segmentize by maximum distance\n",
      "QGIS (native c++):selectbylocation --> Select by location\n",
      "QGIS (native c++):serviceareafromlayer --> Service area (from layer)\n",
      "QGIS (native c++):serviceareafrompoint --> Service area (from point)\n",
      "QGIS (native c++):setlayerencoding --> Set layer encoding\n",
      "QGIS (native c++):setlayerstyle --> Set layer style\n",
      "QGIS (native c++):setmfromraster --> Set M value from raster\n",
      "QGIS (native c++):setmvalue --> Set M value\n",
      "QGIS (native c++):setzfromraster --> Drape (set Z value from raster)\n",
      "QGIS (native c++):setzvalue --> Set Z value\n",
      "QGIS (native c++):shortestpathlayertopoint --> Shortest path (layer to point)\n",
      "QGIS (native c++):shortestpathpointtolayer --> Shortest path (point to layer)\n",
      "QGIS (native c++):shortestpathpointtopoint --> Shortest path (point to point)\n",
      "QGIS (native c++):shpencodinginfo --> Extract Shapefile encoding\n",
      "QGIS (native c++):simplifygeometries --> Simplify\n",
      "QGIS (native c++):singlesidedbuffer --> Single sided buffer\n",
      "QGIS (native c++):slope --> Slope\n",
      "QGIS (native c++):smoothgeometry --> Smooth\n",
      "QGIS (native c++):snappointstogrid --> Snap points to grid\n",
      "QGIS (native c++):splitfeaturesbycharacter --> Split features by character\n",
      "QGIS (native c++):splitlinesbylength --> Split lines by maximum length\n",
      "QGIS (native c++):splitwithlines --> Split with lines\n",
      "QGIS (native c++):stringconcatenation --> String concatenation\n",
      "QGIS (native c++):stylefromproject --> Create style database from project\n",
      "QGIS (native c++):subdivide --> Subdivide\n",
      "QGIS (native c++):sumlinelengths --> Sum line lengths\n",
      "QGIS (native c++):swapxy --> Swap X and Y coordinates\n",
      "QGIS (native c++):symmetricaldifference --> Symmetrical difference\n",
      "QGIS (native c++):taperedbuffer --> Tapered buffers\n",
      "QGIS (native c++):transect --> Transect\n",
      "QGIS (native c++):translategeometry --> Translate\n",
      "QGIS (native c++):truncatetable --> Truncate table\n",
      "QGIS (native c++):union --> Union\n",
      "QGIS (native c++):wedgebuffers --> Create wedge buffers\n",
      "QGIS (native c++):zonalhistogram --> Zonal histogram\n",
      "QGIS (native c++):zonalstatistics --> Zonal statistics\n"
     ]
    }
   ],
   "source": [
    "for alg in QgsApplication.processingRegistry().algorithms():\n",
    "    print(\"{}:{} --> {}\".format(alg.provider().name(), alg.name(), alg.displayName()))"
   ]
  },
  {
   "cell_type": "code",
   "execution_count": 11,
   "metadata": {},
   "outputs": [
    {
     "data": {
      "text/plain": [
       "162"
      ]
     },
     "execution_count": 11,
     "metadata": {},
     "output_type": "execute_result"
    }
   ],
   "source": [
    "len(QgsApplication.processingRegistry().algorithms())"
   ]
  },
  {
   "cell_type": "code",
   "execution_count": 12,
   "metadata": {},
   "outputs": [
    {
     "name": "stdout",
     "output_type": "stream",
     "text": [
      "Raster pixels to points (native:pixelstopoints)\n",
      "\n",
      "Creates a vector layer of points corresponding to each pixel in a raster layer.\n",
      "\n",
      "This algorithm converts a raster layer to a vector layer, by creating point features for each individual pixel's center in the raster layer.\n",
      "\n",
      "Any nodata pixels are skipped in the output.\n",
      "\n",
      "\n",
      "----------------\n",
      "Input parameters\n",
      "----------------\n",
      "\n",
      "INPUT_RASTER: Raster layer\n",
      "\n",
      "\tParameter type:\tQgsProcessingParameterRasterLayer\n",
      "\n",
      "\tAccepted data types:\n",
      "\t\t- str: layer ID\n",
      "\t\t- str: layer name\n",
      "\t\t- str: layer source\n",
      "\t\t- QgsProperty\n",
      "\t\t- QgsRasterLayer\n",
      "\n",
      "RASTER_BAND: Band number\n",
      "\n",
      "\tParameter type:\tQgsProcessingParameterBand\n",
      "\n",
      "\tAccepted data types:\n",
      "\t\t- int\n",
      "\t\t- QgsProperty\n",
      "\n",
      "FIELD_NAME: Field name\n",
      "\n",
      "\tParameter type:\tQgsProcessingParameterString\n",
      "\n",
      "\tAccepted data types:\n",
      "\t\t- str\n",
      "\t\t- QgsProperty\n",
      "\n",
      "OUTPUT: Vector points\n",
      "\n",
      "\tParameter type:\tQgsProcessingParameterFeatureSink\n",
      "\n",
      "\tAccepted data types:\n",
      "\t\t- str: destination vector file, e.g. 'd:/test.shp'\n",
      "\t\t- str: 'memory:' to store result in temporary memory layer\n",
      "\t\t- str: using vector provider ID prefix and destination URI, e.g. 'postgres:…' to store result in PostGIS table\n",
      "\t\t- QgsProcessingOutputLayerDefinition\n",
      "\t\t- QgsProperty\n",
      "\n",
      "----------------\n",
      "Outputs\n",
      "----------------\n",
      "\n",
      "OUTPUT:  <QgsProcessingOutputVectorLayer>\n",
      "\tVector points\n"
     ]
    }
   ],
   "source": [
    "import processing\n",
    "processing.algorithmHelp(\"native:pixelstopoints\")"
   ]
  },
  {
   "cell_type": "code",
   "execution_count": 13,
   "metadata": {},
   "outputs": [],
   "source": [
    "parameters_ras2pt_day = {\n",
    "    'FIELD_NAME' : 'VALUE', \n",
    "    'INPUT_RASTER' : 'data/LandScanConusDayIL.tif', \n",
    "    'OUTPUT' : 'pts/day_IL2.shp', \n",
    "    'RASTER_BAND' : 1 \n",
    "}\n",
    "parameters_ras2pt_night = {\n",
    "    'FIELD_NAME' : 'VALUE', \n",
    "    'INPUT_RASTER' : 'data/LandScanConusNightIL.tif', \n",
    "    'OUTPUT' : 'pts/night_IL2.shp', \n",
    "    'RASTER_BAND' : 1 \n",
    "}"
   ]
  },
  {
   "cell_type": "code",
   "execution_count": 14,
   "metadata": {},
   "outputs": [],
   "source": [
    "parameters_ras2pt_day = {\n",
    "    'FIELD_NAME' : 'VALUE', \n",
    "    'INPUT_RASTER' : 'data/IL_Day_clip_no0.tif', \n",
    "    'OUTPUT' : 'pts/day_IL2.shp', \n",
    "    'RASTER_BAND' : 1 \n",
    "}\n",
    "parameters_ras2pt_night = {\n",
    "    'FIELD_NAME' : 'VALUE', \n",
    "    'INPUT_RASTER' : 'data/IL_Night_clip_no0.tif', \n",
    "    'OUTPUT' : 'pts/night_IL2.shp', \n",
    "    'RASTER_BAND' : 1 \n",
    "}"
   ]
  },
  {
   "cell_type": "code",
   "execution_count": 15,
   "metadata": {},
   "outputs": [],
   "source": [
    "feedback = QgsProcessingFeedback()"
   ]
  },
  {
   "cell_type": "code",
   "execution_count": 16,
   "metadata": {},
   "outputs": [
    {
     "name": "stdout",
     "output_type": "stream",
     "text": [
      "Help on function run in module processing.tools.general:\n",
      "\n",
      "run(algOrName, parameters, onFinish=None, feedback=None, context=None, is_child_algorithm=False)\n",
      "    Executes given algorithm and returns its outputs as dictionary object.\n",
      "    \n",
      "    :param algOrName: Either an instance of an algorithm, or an algorithm's ID\n",
      "    :param parameters: Algorithm parameters dictionary\n",
      "    :param onFinish: optional function to run after the algorithm has completed\n",
      "    :param feedback: Processing feedback object\n",
      "    :param context: Processing context object\n",
      "    :param is_child_algorithm: Set to True if this algorithm is being run as part of a larger algorithm,\n",
      "    i.e. it is a sub-part of an algorithm which calls other Processing algorithms.\n",
      "    \n",
      "    :returns algorithm results as a dictionary, or None if execution failed\n",
      "    :rtype: Union[dict, None]\n",
      "\n"
     ]
    }
   ],
   "source": [
    "help(processing.run)"
   ]
  },
  {
   "cell_type": "code",
   "execution_count": 17,
   "metadata": {},
   "outputs": [
    {
     "name": "stdout",
     "output_type": "stream",
     "text": [
      "CPU times: user 15 s, sys: 9.97 s, total: 25 s\n",
      "Wall time: 26 s\n"
     ]
    },
    {
     "data": {
      "text/plain": [
       "{'OUTPUT': 'pts/day_IL2.shp'}"
      ]
     },
     "execution_count": 17,
     "metadata": {},
     "output_type": "execute_result"
    }
   ],
   "source": [
    "%%time\n",
    "processing.run(\"native:pixelstopoints\", parameters_ras2pt_day, feedback=feedback)"
   ]
  },
  {
   "cell_type": "code",
   "execution_count": 18,
   "metadata": {},
   "outputs": [
    {
     "name": "stdout",
     "output_type": "stream",
     "text": [
      "CPU times: user 14.9 s, sys: 10.4 s, total: 25.2 s\n",
      "Wall time: 32.6 s\n"
     ]
    },
    {
     "data": {
      "text/plain": [
       "{'OUTPUT': 'pts/night_IL2.shp'}"
      ]
     },
     "execution_count": 18,
     "metadata": {},
     "output_type": "execute_result"
    }
   ],
   "source": [
    "%%time\n",
    "processing.run(\"native:pixelstopoints\", parameters_ras2pt_night, feedback=feedback)"
   ]
  },
  {
   "cell_type": "markdown",
   "metadata": {},
   "source": [
    "{ 'CELLSIZE' : 0, 'CRS' : None, 'EXPRESSION' : '((\\\"LandScanConusNightIL_clip@1\\\">0)*\\\"LandScanConusNightIL_clip@1\\\") / ((\\\"LandScanConusNightIL_clip@1\\\">0)*1 + (\\\"LandScanConusNightIL_clip@1\\\"<=0)*0)', 'EXTENT' : None, 'LAYERS' : ['//192.168.100.3/DeptUsers/weiyec2/Downloads/LandScanIL/LandScanConusNightIL_clip.tif'], 'OUTPUT' : 'TEMPORARY_OUTPUT' }"
   ]
  },
  {
   "cell_type": "code",
   "execution_count": null,
   "metadata": {},
   "outputs": [],
   "source": []
  }
 ],
 "metadata": {
  "kernelspec": {
   "display_name": "Python 3",
   "language": "python",
   "name": "python3"
  },
  "language_info": {
   "codemirror_mode": {
    "name": "ipython",
    "version": 3
   },
   "file_extension": ".py",
   "mimetype": "text/x-python",
   "name": "python",
   "nbconvert_exporter": "python",
   "pygments_lexer": "ipython3",
   "version": "3.7.6"
  }
 },
 "nbformat": 4,
 "nbformat_minor": 4
}
