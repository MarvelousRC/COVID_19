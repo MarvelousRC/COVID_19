{
 "cells": [
  {
   "cell_type": "markdown",
   "metadata": {},
   "source": [
    "#\n",
    "\n",
    "Heatmap\n",
    "Chicago \n",
    "Champaign County\n",
    "(Champaign, Urbana) City\n",
    "\n",
    "3857"
   ]
  },
  {
   "cell_type": "code",
   "execution_count": 1,
   "metadata": {},
   "outputs": [],
   "source": [
    "import sys\n",
    "\n",
    "sys.path.append('/opt/conda/share/qgis/python/plugins')\n",
    "sys.path.append('/opt/conda/share/qgis/python')\n",
    "sys.path.append('/opt/conda/bin')"
   ]
  },
  {
   "cell_type": "code",
   "execution_count": 2,
   "metadata": {},
   "outputs": [],
   "source": [
    "import qgis"
   ]
  },
  {
   "cell_type": "code",
   "execution_count": 3,
   "metadata": {},
   "outputs": [],
   "source": [
    "from qgis.core import *\n",
    "from qgis.analysis import *"
   ]
  },
  {
   "cell_type": "code",
   "execution_count": 4,
   "metadata": {},
   "outputs": [],
   "source": [
    "from qgis.core import QgsApplication\n",
    "# QgsApplication.setPrefixPath('/opt/conda/share/qgis/', True)"
   ]
  },
  {
   "cell_type": "code",
   "execution_count": 5,
   "metadata": {},
   "outputs": [
    {
     "data": {
      "text/plain": [
       "'3.12.1-București'"
      ]
     },
     "execution_count": 5,
     "metadata": {},
     "output_type": "execute_result"
    }
   ],
   "source": [
    "import qgis.utils\n",
    "qgis.utils.Qgis.QGIS_VERSION"
   ]
  },
  {
   "cell_type": "code",
   "execution_count": null,
   "metadata": {},
   "outputs": [],
   "source": [
    "# dir(qgis.analysis)"
   ]
  },
  {
   "cell_type": "code",
   "execution_count": null,
   "metadata": {},
   "outputs": [],
   "source": [
    "# input_raster_day = QgsRasterLayer('data/LandScanConusDay.tif', 'raster') \n",
    "# input_raster_night = QgsRasterLayer('data/LandScanConusNight.tif', 'raster') "
   ]
  },
  {
   "cell_type": "code",
   "execution_count": null,
   "metadata": {},
   "outputs": [],
   "source": [
    "input_raster_day = QgsRasterLayer('data/Day_Midwest.tif', 'raster') \n",
    "input_raster_night = QgsRasterLayer('data/Night_Midwest.tif', 'raster') "
   ]
  },
  {
   "cell_type": "code",
   "execution_count": 6,
   "metadata": {},
   "outputs": [
    {
     "data": {
      "text/plain": [
       "True"
      ]
     },
     "execution_count": 6,
     "metadata": {},
     "output_type": "execute_result"
    }
   ],
   "source": [
    "a = QgsApplication.processingRegistry()\n",
    "a.addProvider(QgsNativeAlgorithms())"
   ]
  },
  {
   "cell_type": "code",
   "execution_count": null,
   "metadata": {},
   "outputs": [],
   "source": [
    "for alg in QgsApplication.processingRegistry().algorithms():\n",
    "    print(\"{}:{} --> {}\".format(alg.provider().name(), alg.name(), alg.displayName()))"
   ]
  },
  {
   "cell_type": "code",
   "execution_count": 11,
   "metadata": {},
   "outputs": [
    {
     "data": {
      "text/plain": [
       "162"
      ]
     },
     "execution_count": 11,
     "metadata": {},
     "output_type": "execute_result"
    }
   ],
   "source": [
    "len(QgsApplication.processingRegistry().algorithms())"
   ]
  },
  {
   "cell_type": "code",
   "execution_count": 7,
   "metadata": {},
   "outputs": [
    {
     "name": "stdout",
     "output_type": "stream",
     "text": [
      "Raster pixels to points (native:pixelstopoints)\n",
      "\n",
      "Creates a vector layer of points corresponding to each pixel in a raster layer.\n",
      "\n",
      "This algorithm converts a raster layer to a vector layer, by creating point features for each individual pixel's center in the raster layer.\n",
      "\n",
      "Any nodata pixels are skipped in the output.\n",
      "\n",
      "\n",
      "----------------\n",
      "Input parameters\n",
      "----------------\n",
      "\n",
      "INPUT_RASTER: Raster layer\n",
      "\n",
      "\tParameter type:\tQgsProcessingParameterRasterLayer\n",
      "\n",
      "\tAccepted data types:\n",
      "\t\t- str: layer ID\n",
      "\t\t- str: layer name\n",
      "\t\t- str: layer source\n",
      "\t\t- QgsProperty\n",
      "\t\t- QgsRasterLayer\n",
      "\n",
      "RASTER_BAND: Band number\n",
      "\n",
      "\tParameter type:\tQgsProcessingParameterBand\n",
      "\n",
      "\tAccepted data types:\n",
      "\t\t- int\n",
      "\t\t- QgsProperty\n",
      "\n",
      "FIELD_NAME: Field name\n",
      "\n",
      "\tParameter type:\tQgsProcessingParameterString\n",
      "\n",
      "\tAccepted data types:\n",
      "\t\t- str\n",
      "\t\t- QgsProperty\n",
      "\n",
      "OUTPUT: Vector points\n",
      "\n",
      "\tParameter type:\tQgsProcessingParameterFeatureSink\n",
      "\n",
      "\tAccepted data types:\n",
      "\t\t- str: destination vector file, e.g. 'd:/test.shp'\n",
      "\t\t- str: 'memory:' to store result in temporary memory layer\n",
      "\t\t- str: using vector provider ID prefix and destination URI, e.g. 'postgres:…' to store result in PostGIS table\n",
      "\t\t- QgsProcessingOutputLayerDefinition\n",
      "\t\t- QgsProperty\n",
      "\n",
      "----------------\n",
      "Outputs\n",
      "----------------\n",
      "\n",
      "OUTPUT:  <QgsProcessingOutputVectorLayer>\n",
      "\tVector points\n"
     ]
    }
   ],
   "source": [
    "import processing\n",
    "processing.algorithmHelp(\"native:pixelstopoints\")"
   ]
  },
  {
   "cell_type": "code",
   "execution_count": 8,
   "metadata": {},
   "outputs": [],
   "source": [
    "# parameters_ras2pt_day = {\n",
    "#     'FIELD_NAME' : 'VALUE', \n",
    "#     'INPUT_RASTER' : 'data/Day_Midwest.tif', \n",
    "#     'OUTPUT' : 'pts/day_midwest.shp', \n",
    "#     'RASTER_BAND' : 1 \n",
    "# }\n",
    "# parameters_ras2pt_night = {\n",
    "#     'FIELD_NAME' : 'VALUE', \n",
    "#     'INPUT_RASTER' : 'data/Night_Midwest.tif', \n",
    "#     'OUTPUT' : 'pts/night_midwest.shp', \n",
    "#     'RASTER_BAND' : 1\n",
    "# }"
   ]
  },
  {
   "cell_type": "code",
   "execution_count": 10,
   "metadata": {},
   "outputs": [],
   "source": [
    "parameters_ras2pt_day = {\n",
    "    'FIELD_NAME' : 'VALUE', \n",
    "    'INPUT_RASTER' : 'data/IL_Day_clip_no0.tif', \n",
    "    'OUTPUT' : 'pts/day_IL2.shp', \n",
    "    'RASTER_BAND' : 1 \n",
    "}\n",
    "# parameters_ras2pt_night = {\n",
    "#     'FIELD_NAME' : 'VALUE', \n",
    "#     'INPUT_RASTER' : 'data/IL_Night_clip_no0.tif', \n",
    "#     'OUTPUT' : 'pts/night_IL2.shp', \n",
    "#     'RASTER_BAND' : 1 \n",
    "# }"
   ]
  },
  {
   "cell_type": "code",
   "execution_count": 15,
   "metadata": {},
   "outputs": [],
   "source": [
    "# help(processing.run)"
   ]
  },
  {
   "cell_type": "code",
   "execution_count": 11,
   "metadata": {},
   "outputs": [
    {
     "name": "stdout",
     "output_type": "stream",
     "text": [
      "CPU times: user 33.1 s, sys: 23.2 s, total: 56.2 s\n",
      "Wall time: 1min 2s\n"
     ]
    },
    {
     "data": {
      "text/plain": [
       "{'OUTPUT': 'pts/day_IL2.shp'}"
      ]
     },
     "execution_count": 11,
     "metadata": {},
     "output_type": "execute_result"
    }
   ],
   "source": [
    "%%time\n",
    "processing.run(\"native:pixelstopoints\", parameters_ras2pt_day)"
   ]
  },
  {
   "cell_type": "code",
   "execution_count": 9,
   "metadata": {},
   "outputs": [
    {
     "name": "stdout",
     "output_type": "stream",
     "text": [
      "CPU times: user 3min 1s, sys: 2min 2s, total: 5min 4s\n",
      "Wall time: 5min 5s\n"
     ]
    },
    {
     "data": {
      "text/plain": [
       "{'OUTPUT': 'pts/night_midwest.shp'}"
      ]
     },
     "execution_count": 9,
     "metadata": {},
     "output_type": "execute_result"
    }
   ],
   "source": [
    "%%time\n",
    "processing.run(\"native:pixelstopoints\", parameters_ras2pt_night)"
   ]
  },
  {
   "cell_type": "markdown",
   "metadata": {},
   "source": [
    "{ 'CELLSIZE' : 0, 'CRS' : None, 'EXPRESSION' : '((\\\"LandScanConusNightIL_clip@1\\\">0)*\\\"LandScanConusNightIL_clip@1\\\") / ((\\\"LandScanConusNightIL_clip@1\\\">0)*1 + (\\\"LandScanConusNightIL_clip@1\\\"<=0)*0)', 'EXTENT' : None, 'LAYERS' : ['//192.168.100.3/DeptUsers/weiyec2/Downloads/LandScanIL/LandScanConusNightIL_clip.tif'], 'OUTPUT' : 'TEMPORARY_OUTPUT' }"
   ]
  },
  {
   "cell_type": "code",
   "execution_count": null,
   "metadata": {},
   "outputs": [],
   "source": []
  }
 ],
 "metadata": {
  "kernelspec": {
   "display_name": "Python 3",
   "language": "python",
   "name": "python3"
  },
  "language_info": {
   "codemirror_mode": {
    "name": "ipython",
    "version": 3
   },
   "file_extension": ".py",
   "mimetype": "text/x-python",
   "name": "python",
   "nbconvert_exporter": "python",
   "pygments_lexer": "ipython3",
   "version": "3.7.6"
  }
 },
 "nbformat": 4,
 "nbformat_minor": 4
}
