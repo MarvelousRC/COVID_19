{
 "cells": [
  {
   "cell_type": "code",
   "execution_count": 1,
   "metadata": {},
   "outputs": [],
   "source": [
    "import geopandas as gpd\n",
    "import pandas as pd\n",
    "import shapely as sl"
   ]
  },
  {
   "cell_type": "code",
   "execution_count": 2,
   "metadata": {},
   "outputs": [
    {
     "name": "stdout",
     "output_type": "stream",
     "text": [
      "File ‘USA_Counties_as_Shape.zip’ already there; not retrieving.\n",
      "\n"
     ]
    }
   ],
   "source": [
    "!cd ..\n",
    "!wget -nc https://s3-eu-west-1.amazonaws.com/pfigshare-u-files/22153815/USA_Counties_as_Shape.zip"
   ]
  },
  {
   "cell_type": "code",
   "execution_count": 3,
   "metadata": {},
   "outputs": [],
   "source": [
    "counties = gpd.read_file(\"zip://USA_Counties_as_Shape.zip\")\n",
    "counties['FIPS'] = counties['FIPS'].astype('int')\n",
    "counties = counties.set_index('FIPS')"
   ]
  },
  {
   "cell_type": "code",
   "execution_count": 5,
   "metadata": {},
   "outputs": [],
   "source": [
    "nyc=counties[(counties['STATE_NAME'] == 'New York') &\n",
    "    ((counties['NAME'] == 'Bronx') | (counties['NAME'] == 'Queens') | (counties['NAME'] == 'Kings') | (counties['NAME'] == 'Richmond') | (counties['NAME'] == 'New York'))]"
   ]
  },
  {
   "cell_type": "code",
   "execution_count": 6,
   "metadata": {},
   "outputs": [],
   "source": [
    "template = nyc.iloc[2].copy()"
   ]
  },
  {
   "cell_type": "code",
   "execution_count": 10,
   "metadata": {},
   "outputs": [
    {
     "data": {
      "text/plain": [
       "POP2010       8.17513e+06\n",
       "POP2012       8.27016e+06\n",
       "WHITE         3.59734e+06\n",
       "BLACK         2.08851e+06\n",
       "AMERI_ES            57512\n",
       "ASIAN         1.03839e+06\n",
       "HAWN_PI              5147\n",
       "HISPANIC      2.33608e+06\n",
       "OTHER         1.06233e+06\n",
       "MULT_RACE          325901\n",
       "MALES         3.88254e+06\n",
       "FEMALES       4.29259e+06\n",
       "AGE_UNDER5         517724\n",
       "AGE_5_9            473159\n",
       "AGE_10_14          468154\n",
       "AGE_15_19          535833\n",
       "AGE_20_24          642585\n",
       "AGE_25_34     1.39244e+06\n",
       "AGE_35_44     1.15469e+06\n",
       "AGE_45_54     1.10738e+06\n",
       "AGE_55_64          890012\n",
       "AGE_65_74          531461\n",
       "AGE_75_84          320291\n",
       "AGE_85_UP          141406\n",
       "MED_AGE             179.1\n",
       "MED_AGE_M           171.7\n",
       "MED_AGE_F           186.3\n",
       "HOUSEHOLDS    3.10978e+06\n",
       "SQMI               302.06\n",
       "HSE_UNITS     3.37106e+06\n",
       "VACANT             261278\n",
       "OWNER_OCC          962892\n",
       "RENTER_OCC    2.14689e+06\n",
       "NO_FARMS07             20\n",
       "HSEHLD_1_M         420380\n",
       "HSEHLD_1_F         575375\n",
       "MARHH_CHD          529522\n",
       "MARHH_NO_C         568348\n",
       "MHH_CHILD           75945\n",
       "FHH_CHILD          343280\n",
       "FAMILIES      1.85022e+06\n",
       "Name: 36061, dtype: object"
      ]
     },
     "execution_count": 10,
     "metadata": {},
     "output_type": "execute_result"
    }
   ],
   "source": [
    "pop_list = ['POP2010', 'POP2012',  'WHITE', 'BLACK', 'AMERI_ES',\n",
    "       'ASIAN', 'HAWN_PI', 'HISPANIC', 'OTHER', 'MULT_RACE', 'MALES',\n",
    "       'FEMALES', 'AGE_UNDER5', 'AGE_5_9', 'AGE_10_14', 'AGE_15_19',\n",
    "       'AGE_20_24', 'AGE_25_34', 'AGE_35_44', 'AGE_45_54', 'AGE_55_64',\n",
    "       'AGE_65_74', 'AGE_75_84', 'AGE_85_UP', 'MED_AGE', 'MED_AGE_M',\n",
    "       'MED_AGE_F', 'HOUSEHOLDS', 'SQMI', 'HSE_UNITS', 'VACANT', 'OWNER_OCC', 'RENTER_OCC',\n",
    "       'NO_FARMS07', 'HSEHLD_1_M', 'HSEHLD_1_F',\n",
    "       'MARHH_CHD', 'MARHH_NO_C', 'MHH_CHILD', 'FHH_CHILD', 'FAMILIES']\n",
    "template[pop_list] = nyc[pop_list].sum()\n",
    "template[pop_list]"
   ]
  },
  {
   "cell_type": "code",
   "execution_count": 11,
   "metadata": {},
   "outputs": [
    {
     "data": {
      "text/plain": [
       "POP10_SQMI    27064.6\n",
       "POP12_SQMI    27379.2\n",
       "Name: 36061, dtype: object"
      ]
     },
     "execution_count": 11,
     "metadata": {},
     "output_type": "execute_result"
    }
   ],
   "source": [
    "template[['POP10_SQMI', 'POP12_SQMI']] = template[['POP2010', 'POP2012']] / template['SQMI']\n",
    "template[['POP10_SQMI', 'POP12_SQMI']]"
   ]
  },
  {
   "cell_type": "code",
   "execution_count": 12,
   "metadata": {},
   "outputs": [],
   "source": [
    "template['AVE_HH_SZ'] = 2.64"
   ]
  },
  {
   "cell_type": "code",
   "execution_count": 13,
   "metadata": {},
   "outputs": [
    {
     "data": {
      "text/plain": [
       "shapely.geometry.multipolygon.MultiPolygon"
      ]
     },
     "execution_count": 13,
     "metadata": {},
     "output_type": "execute_result"
    }
   ],
   "source": [
    "type(template.geometry)"
   ]
  },
  {
   "cell_type": "code",
   "execution_count": 14,
   "metadata": {},
   "outputs": [],
   "source": [
    "sh = sl.ops.unary_union(nyc.geometry)\n",
    "sh"
   ]
  },
  {
   "cell_type": "code",
   "execution_count": 16,
   "metadata": {},
   "outputs": [
    {
     "data": {
      "text/plain": [
       "36061    (POLYGON ((-74.20241001323575 40.5795550410533...\n",
       "Name: geometry, dtype: object"
      ]
     },
     "execution_count": 16,
     "metadata": {},
     "output_type": "execute_result"
    }
   ],
   "source": [
    "template.geometry = sh\n",
    "template.to_frame().transpose().geometry"
   ]
  },
  {
   "cell_type": "code",
   "execution_count": 17,
   "metadata": {},
   "outputs": [],
   "source": [
    "counties = counties.drop([36005, 36047, 36061, 36081, 36085])"
   ]
  },
  {
   "cell_type": "code",
   "execution_count": 18,
   "metadata": {},
   "outputs": [],
   "source": [
    "counties = pd.concat([counties, template.to_frame().transpose()]).sort_index()"
   ]
  },
  {
   "cell_type": "code",
   "execution_count": 19,
   "metadata": {},
   "outputs": [
    {
     "data": {
      "text/html": [
       "<div>\n",
       "<style scoped>\n",
       "    .dataframe tbody tr th:only-of-type {\n",
       "        vertical-align: middle;\n",
       "    }\n",
       "\n",
       "    .dataframe tbody tr th {\n",
       "        vertical-align: top;\n",
       "    }\n",
       "\n",
       "    .dataframe thead th {\n",
       "        text-align: right;\n",
       "    }\n",
       "</style>\n",
       "<table border=\"1\" class=\"dataframe\">\n",
       "  <thead>\n",
       "    <tr style=\"text-align: right;\">\n",
       "      <th></th>\n",
       "      <th>NAME</th>\n",
       "      <th>STATE_NAME</th>\n",
       "      <th>STATE_FIPS</th>\n",
       "      <th>CNTY_FIPS</th>\n",
       "      <th>POP2010</th>\n",
       "      <th>POP10_SQMI</th>\n",
       "      <th>POP2012</th>\n",
       "      <th>POP12_SQMI</th>\n",
       "      <th>WHITE</th>\n",
       "      <th>BLACK</th>\n",
       "      <th>...</th>\n",
       "      <th>OWNER_OCC</th>\n",
       "      <th>RENTER_OCC</th>\n",
       "      <th>NO_FARMS07</th>\n",
       "      <th>AVG_SIZE07</th>\n",
       "      <th>CROP_ACR07</th>\n",
       "      <th>AVG_SALE07</th>\n",
       "      <th>SQMI</th>\n",
       "      <th>Shape_Leng</th>\n",
       "      <th>Shape_Area</th>\n",
       "      <th>geometry</th>\n",
       "    </tr>\n",
       "  </thead>\n",
       "  <tbody>\n",
       "    <tr>\n",
       "      <th>36061</th>\n",
       "      <td>New York</td>\n",
       "      <td>New York</td>\n",
       "      <td>36</td>\n",
       "      <td>061</td>\n",
       "      <td>8.17513e+06</td>\n",
       "      <td>27064.6</td>\n",
       "      <td>8.27016e+06</td>\n",
       "      <td>27379.2</td>\n",
       "      <td>3.59734e+06</td>\n",
       "      <td>2.08851e+06</td>\n",
       "      <td>...</td>\n",
       "      <td>962892</td>\n",
       "      <td>2.14689e+06</td>\n",
       "      <td>20</td>\n",
       "      <td>0</td>\n",
       "      <td>0</td>\n",
       "      <td>0</td>\n",
       "      <td>302.06</td>\n",
       "      <td>0.993222</td>\n",
       "      <td>0.00629582</td>\n",
       "      <td>MULTIPOLYGON (((-74.20241 40.57956, -74.20237 ...</td>\n",
       "    </tr>\n",
       "  </tbody>\n",
       "</table>\n",
       "<p>1 rows × 55 columns</p>\n",
       "</div>"
      ],
      "text/plain": [
       "           NAME STATE_NAME STATE_FIPS CNTY_FIPS      POP2010 POP10_SQMI  \\\n",
       "36061  New York   New York         36       061  8.17513e+06    27064.6   \n",
       "\n",
       "           POP2012 POP12_SQMI        WHITE        BLACK  ... OWNER_OCC  \\\n",
       "36061  8.27016e+06    27379.2  3.59734e+06  2.08851e+06  ...    962892   \n",
       "\n",
       "        RENTER_OCC NO_FARMS07 AVG_SIZE07 CROP_ACR07 AVG_SALE07    SQMI  \\\n",
       "36061  2.14689e+06         20          0          0          0  302.06   \n",
       "\n",
       "      Shape_Leng  Shape_Area  \\\n",
       "36061   0.993222  0.00629582   \n",
       "\n",
       "                                                geometry  \n",
       "36061  MULTIPOLYGON (((-74.20241 40.57956, -74.20237 ...  \n",
       "\n",
       "[1 rows x 55 columns]"
      ]
     },
     "execution_count": 19,
     "metadata": {},
     "output_type": "execute_result"
    }
   ],
   "source": [
    "counties[(counties['STATE_NAME'] == 'New York') &\n",
    "    ((counties['NAME'] == 'Bronx') | (counties['NAME'] == 'Queens') | (counties['NAME'] == 'Kings') | (counties['NAME'] == 'Richmond') | (counties['NAME'] == 'New York'))]"
   ]
  },
  {
   "cell_type": "code",
   "execution_count": 23,
   "metadata": {},
   "outputs": [
    {
     "name": "stdout",
     "output_type": "stream",
     "text": [
      "mkdir: counties_shp_correct_for_nyc: File exists\n"
     ]
    }
   ],
   "source": [
    "!mkdir counties_shp_correct_for_nyc"
   ]
  },
  {
   "cell_type": "code",
   "execution_count": 24,
   "metadata": {},
   "outputs": [],
   "source": [
    "counties.to_file('counties_shp_correct_for_nyc/counties.shp')"
   ]
  },
  {
   "cell_type": "code",
   "execution_count": null,
   "metadata": {},
   "outputs": [],
   "source": []
  }
 ],
 "metadata": {
  "kernelspec": {
   "display_name": "Python 3.7.6 64-bit ('GIS37': conda)",
   "language": "python",
   "name": "python37664bitgis37conda4a63a510cbc84156aa46a8bb3e4a7a93"
  },
  "language_info": {
   "codemirror_mode": {
    "name": "ipython",
    "version": 3
   },
   "file_extension": ".py",
   "mimetype": "text/x-python",
   "name": "python",
   "nbconvert_exporter": "python",
   "pygments_lexer": "ipython3",
   "version": "3.7.6"
  }
 },
 "nbformat": 4,
 "nbformat_minor": 4
}
